{
 "cells": [
  {
   "cell_type": "code",
   "execution_count": null,
   "id": "bdea3a35-a773-461e-983d-3f273865bd01",
   "metadata": {},
   "outputs": [],
   "source": []
  }
 ],
 "metadata": {
  "kernelspec": {
   "display_name": "",
   "name": ""
  },
  "language_info": {
   "name": ""
  }
 },
 "nbformat": 4,
 "nbformat_minor": 5
}
